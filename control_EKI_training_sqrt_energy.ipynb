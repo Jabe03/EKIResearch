{
 "cells": [
  {
   "cell_type": "code",
   "execution_count": 4,
   "id": "367b66c2",
   "metadata": {},
   "outputs": [],
   "source": [
    "import numpy as np\n",
    "import torch\n",
    "import torch.nn as nn\n",
    "import torch.optim as optim\n",
    "from torchdiffeq import odeint\n",
    "from sklearn.metrics import mean_squared_error\n",
    "import time\n",
    "\n",
    "import matplotlib.pyplot as plt\n",
    "from copy import deepcopy\n",
    "from utilities_sqrt_energy import *\n",
    "from matplotlib import rcParams\n",
    "import matplotlib.ticker as ticker\n",
    "import seaborn as sns"
   ]
  },
  {
   "cell_type": "code",
   "execution_count": 5,
   "id": "2f1ae0bf",
   "metadata": {},
   "outputs": [],
   "source": [
    "# customized settings\n",
    "params = {  # 'backend': 'ps',\n",
    "    'font.family': 'serif',\n",
    "    'font.serif': 'Latin Modern Roman',\n",
    "    'font.size': 8,\n",
    "    'axes.labelsize': 'medium',\n",
    "    'axes.titlesize': 'medium',\n",
    "    'legend.fontsize': 'medium',\n",
    "    'xtick.labelsize': 'small',\n",
    "    'ytick.labelsize': 'small',\n",
    "    'savefig.dpi': 150,\n",
    "    'text.usetex': True, \n",
    "    'legend.title_fontsize': 8}\n",
    "# tell matplotlib about your params\n",
    "rcParams.update(params)\n",
    "\n",
    "# set nice figure sizes\n",
    "fig_width_pt = 487.8225 # Get this from LaTeX using \\showthe\\columnwidth\n",
    "golden_mean = (np.sqrt(5.) - 1.) / 2.  # Aesthetic ratio\n",
    "ratio = golden_mean\n",
    "inches_per_pt = 1. / 72.27  # Convert pt to inches\n",
    "fig_width = fig_width_pt * inches_per_pt  # width in inches\n",
    "fig_height = fig_width*0.9#*ratio  # height in inches\n",
    "fig_size = [fig_width,0.7*fig_height]\n",
    "rcParams.update({'figure.figsize': fig_size})"
   ]
  },
  {
   "cell_type": "code",
   "execution_count": 6,
   "id": "f6e3cc49",
   "metadata": {},
   "outputs": [],
   "source": [
    "sns.set_context(\"paper\")"
   ]
  },
  {
   "cell_type": "markdown",
   "id": "52a4ac41",
   "metadata": {},
   "source": [
    "# Training neural ODE controller with BPTT and EKI"
   ]
  },
  {
   "cell_type": "markdown",
   "id": "33e6afb8",
   "metadata": {},
   "source": [
    "The control problem is $\\dot{x}=x+u$ with $x(t=0)=0$, $x(t=1)=1$ and minimizing $\\int_0^1 u(t)^2 \\, \\mathrm{d}t$."
   ]
  },
  {
   "cell_type": "code",
   "execution_count": 13,
   "id": "ae32f398",
   "metadata": {},
   "outputs": [],
   "source": [
    "opt_energy = 2/(np.exp(1)**2-1)"
   ]
  },
  {
   "cell_type": "code",
   "execution_count": 14,
   "id": "53dac968",
   "metadata": {},
   "outputs": [],
   "source": [
    "T = 1\n",
    "true_x0 = torch.tensor([0.0,0.0])\n",
    "t = torch.linspace(0., T, 100)\n",
    "target_x = torch.tensor([1])\n",
    "\n",
    "number_layers, number_neurons = 3, 5"
   ]
  },
  {
   "cell_type": "code",
   "execution_count": 15,
   "id": "4b728f61",
   "metadata": {},
   "outputs": [],
   "source": [
    "class ODE_func(nn.Module):\n",
    "\n",
    "    def __init__(self, number_layers, number_neurons, output_control = False):\n",
    "        super(ODE_func, self).__init__()\n",
    "\n",
    "        self.input = nn.Linear(1,number_neurons)\n",
    "        self.linears = nn.ModuleList([nn.Linear(number_neurons, number_neurons) for i in range(number_layers)])\n",
    "        self.output = nn.Linear(number_neurons,1)\n",
    "        self.number_layers = number_layers\n",
    "        \n",
    "        self.output_control = output_control\n",
    "        \n",
    "    def forward(self, t, y):\n",
    "        u = self.input(torch.tensor([t]))\n",
    "        \n",
    "        for i in range(self.number_layers):\n",
    "            u = nn.functional.elu(u)\n",
    "            u = self.linears[i](u)\n",
    "        u = nn.functional.elu(u)\n",
    "        u = self.output(u)\n",
    "        \n",
    "        if self.output_control == False:\n",
    "            return torch.tensor([y[0],0])+torch.tensor([1.0,0.0])*u+torch.tensor([0.0,1.0])*u*u\n",
    "        else:\n",
    "            return u\n",
    "\n",
    "def weights_init(m):\n",
    "    if isinstance(m, nn.Linear):\n",
    "        torch.nn.init.constant_(m.weight,val=1e-1)#kaiming_uniform_(m.weight)\n",
    "        torch.nn.init.constant_(m.bias,val=1e-1)"
   ]
  },
  {
   "cell_type": "code",
   "execution_count": 16,
   "id": "2749157a",
   "metadata": {},
   "outputs": [
    {
     "name": "stdout",
     "output_type": "stream",
     "text": [
      "Iter 0020 | Total Loss 0.003189\n",
      "Iter 0040 | Total Loss 0.033489\n",
      "Iter 0060 | Total Loss 0.001911\n",
      "Iter 0080 | Total Loss 0.000401\n",
      "Iter 0100 | Total Loss 0.000055\n",
      "Iter 0120 | Total Loss 0.000012\n",
      "Iter 0140 | Total Loss 0.000002\n",
      "Iter 0160 | Total Loss 0.000001\n",
      "Iter 0180 | Total Loss 0.000000\n",
      "Iter 0020 | Total Loss 0.003333\n",
      "Iter 0040 | Total Loss 0.032871\n",
      "Iter 0060 | Total Loss 0.001798\n",
      "Iter 0080 | Total Loss 0.000350\n",
      "Iter 0100 | Total Loss 0.000070\n",
      "Iter 0120 | Total Loss 0.000015\n",
      "Iter 0140 | Total Loss 0.000004\n",
      "Iter 0160 | Total Loss 0.000002\n",
      "Iter 0180 | Total Loss 0.000001\n",
      "Iter 0020 | Total Loss 0.003599\n",
      "Iter 0040 | Total Loss 0.031834\n",
      "Iter 0060 | Total Loss 0.001625\n",
      "Iter 0080 | Total Loss 0.000272\n",
      "Iter 0100 | Total Loss 0.000096\n",
      "Iter 0120 | Total Loss 0.000022\n",
      "Iter 0140 | Total Loss 0.000008\n",
      "Iter 0160 | Total Loss 0.000005\n",
      "Iter 0180 | Total Loss 0.000004\n",
      "Iter 0020 | Total Loss 0.003863\n",
      "Iter 0040 | Total Loss 0.030759\n",
      "Iter 0060 | Total Loss 0.001443\n",
      "Iter 0080 | Total Loss 0.000199\n",
      "Iter 0100 | Total Loss 0.000124\n",
      "Iter 0120 | Total Loss 0.000028\n",
      "Iter 0140 | Total Loss 0.000013\n",
      "Iter 0160 | Total Loss 0.000010\n",
      "Iter 0180 | Total Loss 0.000008\n",
      "Iter 0020 | Total Loss 0.004145\n",
      "Iter 0040 | Total Loss 0.029678\n",
      "Iter 0060 | Total Loss 0.001281\n",
      "Iter 0080 | Total Loss 0.000138\n",
      "Iter 0100 | Total Loss 0.000153\n",
      "Iter 0120 | Total Loss 0.000036\n",
      "Iter 0140 | Total Loss 0.000019\n"
     ]
    },
    {
     "ename": "KeyboardInterrupt",
     "evalue": "",
     "output_type": "error",
     "traceback": [
      "\u001b[1;31m---------------------------------------------------------------------------\u001b[0m",
      "\u001b[1;31mKeyboardInterrupt\u001b[0m                         Traceback (most recent call last)",
      "Cell \u001b[1;32mIn[16], line 32\u001b[0m\n\u001b[0;32m     30\u001b[0m loss \u001b[38;5;241m=\u001b[39m \u001b[38;5;241m0.5\u001b[39m\u001b[38;5;241m*\u001b[39mtorch\u001b[38;5;241m.\u001b[39mabs(pred_x[\u001b[38;5;241m-\u001b[39m\u001b[38;5;241m1\u001b[39m][\u001b[38;5;241m0\u001b[39m] \u001b[38;5;241m-\u001b[39m target_x)\u001b[38;5;241m*\u001b[39m\u001b[38;5;241m*\u001b[39m\u001b[38;5;241m2\u001b[39m \u001b[38;5;241m+\u001b[39m lamb\u001b[38;5;241m*\u001b[39m\u001b[38;5;241m0.5\u001b[39m\u001b[38;5;241m*\u001b[39mpred_x[:,\u001b[38;5;241m1\u001b[39m][\u001b[38;5;241m-\u001b[39m\u001b[38;5;241m1\u001b[39m]\n\u001b[0;32m     31\u001b[0m loss_arr\u001b[38;5;241m.\u001b[39mappend(loss\u001b[38;5;241m.\u001b[39mdetach())\n\u001b[1;32m---> 32\u001b[0m \u001b[43mloss\u001b[49m\u001b[38;5;241;43m.\u001b[39;49m\u001b[43mbackward\u001b[49m\u001b[43m(\u001b[49m\u001b[43m)\u001b[49m\n\u001b[0;32m     33\u001b[0m optimizer\u001b[38;5;241m.\u001b[39mstep()\n\u001b[0;32m     35\u001b[0m \u001b[38;5;28;01mif\u001b[39;00m loss \u001b[38;5;241m<\u001b[39m loss_new:\n",
      "File \u001b[1;32mc:\\Users\\Bergt\\AppData\\Local\\Programs\\Python\\Python311\\Lib\\site-packages\\torch\\_tensor.py:522\u001b[0m, in \u001b[0;36mTensor.backward\u001b[1;34m(self, gradient, retain_graph, create_graph, inputs)\u001b[0m\n\u001b[0;32m    512\u001b[0m \u001b[38;5;28;01mif\u001b[39;00m has_torch_function_unary(\u001b[38;5;28mself\u001b[39m):\n\u001b[0;32m    513\u001b[0m     \u001b[38;5;28;01mreturn\u001b[39;00m handle_torch_function(\n\u001b[0;32m    514\u001b[0m         Tensor\u001b[38;5;241m.\u001b[39mbackward,\n\u001b[0;32m    515\u001b[0m         (\u001b[38;5;28mself\u001b[39m,),\n\u001b[1;32m   (...)\u001b[0m\n\u001b[0;32m    520\u001b[0m         inputs\u001b[38;5;241m=\u001b[39minputs,\n\u001b[0;32m    521\u001b[0m     )\n\u001b[1;32m--> 522\u001b[0m \u001b[43mtorch\u001b[49m\u001b[38;5;241;43m.\u001b[39;49m\u001b[43mautograd\u001b[49m\u001b[38;5;241;43m.\u001b[39;49m\u001b[43mbackward\u001b[49m\u001b[43m(\u001b[49m\n\u001b[0;32m    523\u001b[0m \u001b[43m    \u001b[49m\u001b[38;5;28;43mself\u001b[39;49m\u001b[43m,\u001b[49m\u001b[43m \u001b[49m\u001b[43mgradient\u001b[49m\u001b[43m,\u001b[49m\u001b[43m \u001b[49m\u001b[43mretain_graph\u001b[49m\u001b[43m,\u001b[49m\u001b[43m \u001b[49m\u001b[43mcreate_graph\u001b[49m\u001b[43m,\u001b[49m\u001b[43m \u001b[49m\u001b[43minputs\u001b[49m\u001b[38;5;241;43m=\u001b[39;49m\u001b[43minputs\u001b[49m\n\u001b[0;32m    524\u001b[0m \u001b[43m\u001b[49m\u001b[43m)\u001b[49m\n",
      "File \u001b[1;32mc:\\Users\\Bergt\\AppData\\Local\\Programs\\Python\\Python311\\Lib\\site-packages\\torch\\autograd\\__init__.py:266\u001b[0m, in \u001b[0;36mbackward\u001b[1;34m(tensors, grad_tensors, retain_graph, create_graph, grad_variables, inputs)\u001b[0m\n\u001b[0;32m    261\u001b[0m     retain_graph \u001b[38;5;241m=\u001b[39m create_graph\n\u001b[0;32m    263\u001b[0m \u001b[38;5;66;03m# The reason we repeat the same comment below is that\u001b[39;00m\n\u001b[0;32m    264\u001b[0m \u001b[38;5;66;03m# some Python versions print out the first line of a multi-line function\u001b[39;00m\n\u001b[0;32m    265\u001b[0m \u001b[38;5;66;03m# calls in the traceback and some print out the last line\u001b[39;00m\n\u001b[1;32m--> 266\u001b[0m \u001b[43mVariable\u001b[49m\u001b[38;5;241;43m.\u001b[39;49m\u001b[43m_execution_engine\u001b[49m\u001b[38;5;241;43m.\u001b[39;49m\u001b[43mrun_backward\u001b[49m\u001b[43m(\u001b[49m\u001b[43m  \u001b[49m\u001b[38;5;66;43;03m# Calls into the C++ engine to run the backward pass\u001b[39;49;00m\n\u001b[0;32m    267\u001b[0m \u001b[43m    \u001b[49m\u001b[43mtensors\u001b[49m\u001b[43m,\u001b[49m\n\u001b[0;32m    268\u001b[0m \u001b[43m    \u001b[49m\u001b[43mgrad_tensors_\u001b[49m\u001b[43m,\u001b[49m\n\u001b[0;32m    269\u001b[0m \u001b[43m    \u001b[49m\u001b[43mretain_graph\u001b[49m\u001b[43m,\u001b[49m\n\u001b[0;32m    270\u001b[0m \u001b[43m    \u001b[49m\u001b[43mcreate_graph\u001b[49m\u001b[43m,\u001b[49m\n\u001b[0;32m    271\u001b[0m \u001b[43m    \u001b[49m\u001b[43minputs\u001b[49m\u001b[43m,\u001b[49m\n\u001b[0;32m    272\u001b[0m \u001b[43m    \u001b[49m\u001b[43mallow_unreachable\u001b[49m\u001b[38;5;241;43m=\u001b[39;49m\u001b[38;5;28;43;01mTrue\u001b[39;49;00m\u001b[43m,\u001b[49m\n\u001b[0;32m    273\u001b[0m \u001b[43m    \u001b[49m\u001b[43maccumulate_grad\u001b[49m\u001b[38;5;241;43m=\u001b[39;49m\u001b[38;5;28;43;01mTrue\u001b[39;49;00m\u001b[43m,\u001b[49m\n\u001b[0;32m    274\u001b[0m \u001b[43m\u001b[49m\u001b[43m)\u001b[49m\n",
      "File \u001b[1;32mc:\\Users\\Bergt\\AppData\\Local\\Programs\\Python\\Python311\\Lib\\site-packages\\torch\\autograd\\function.py:277\u001b[0m, in \u001b[0;36mBackwardCFunction.apply\u001b[1;34m(self, *args)\u001b[0m\n\u001b[0;32m    276\u001b[0m \u001b[38;5;28;01mclass\u001b[39;00m \u001b[38;5;21;01mBackwardCFunction\u001b[39;00m(_C\u001b[38;5;241m.\u001b[39m_FunctionBase, FunctionCtx, _HookMixin):\n\u001b[1;32m--> 277\u001b[0m     \u001b[38;5;28;01mdef\u001b[39;00m \u001b[38;5;21mapply\u001b[39m(\u001b[38;5;28mself\u001b[39m, \u001b[38;5;241m*\u001b[39margs):\n\u001b[0;32m    278\u001b[0m         \u001b[38;5;66;03m# _forward_cls is defined by derived class\u001b[39;00m\n\u001b[0;32m    279\u001b[0m         \u001b[38;5;66;03m# The user should define either backward or vjp but never both.\u001b[39;00m\n\u001b[0;32m    280\u001b[0m         backward_fn \u001b[38;5;241m=\u001b[39m \u001b[38;5;28mself\u001b[39m\u001b[38;5;241m.\u001b[39m_forward_cls\u001b[38;5;241m.\u001b[39mbackward  \u001b[38;5;66;03m# type: ignore[attr-defined]\u001b[39;00m\n\u001b[0;32m    281\u001b[0m         vjp_fn \u001b[38;5;241m=\u001b[39m \u001b[38;5;28mself\u001b[39m\u001b[38;5;241m.\u001b[39m_forward_cls\u001b[38;5;241m.\u001b[39mvjp  \u001b[38;5;66;03m# type: ignore[attr-defined]\u001b[39;00m\n",
      "\u001b[1;31mKeyboardInterrupt\u001b[0m: "
     ]
    }
   ],
   "source": [
    "best_params_BPTT = []\n",
    "loss_arr_BP = []\n",
    "\n",
    "eta = 0.175\n",
    "lamb_arr = [1e-3,2.5e-3,5e-3,7.5e-3,1e-2]\n",
    "\n",
    "start_time = time.time()\n",
    "\n",
    "for lamb in lamb_arr:\n",
    "    torch.manual_seed(123)\n",
    "    \n",
    "    loss_arr = []\n",
    "    \n",
    "    func = ODE_func(number_layers, number_neurons)\n",
    "    func.apply(weights_init)\n",
    "\n",
    "    pred_x = odeint(func, true_x0, t, method='dopri5')\n",
    "    loss = 0.5*torch.abs(pred_x[-1] [0] - target_x)**2 + lamb*0.5*pred_x[:,1][-1]\n",
    "    loss_arr.append(loss)\n",
    "\n",
    "    optimizer = optim.Adam(func.parameters(), lr=eta)\n",
    "\n",
    "    best_model = func\n",
    "    loss_new = 1e9\n",
    "\n",
    "    for itr in range(1, 200):\n",
    "\n",
    "        optimizer.zero_grad()\n",
    "        pred_x = odeint(func, true_x0, t, method='dopri5')\n",
    "        loss = 0.5*torch.abs(pred_x[-1][0] - target_x)**2 + lamb*0.5*pred_x[:,1][-1]\n",
    "        loss_arr.append(loss.detach())\n",
    "        loss.backward()\n",
    "        optimizer.step()\n",
    "\n",
    "        if loss < loss_new:\n",
    "            best_model = func\n",
    "            loss_new = loss\n",
    "\n",
    "        if itr % 20 == 0:\n",
    "            with torch.no_grad():\n",
    "                pred_x = odeint(func, true_x0, t, method='dopri5')\n",
    "                loss = 0.5*torch.abs(pred_x[-1][0] - target_x)**2\n",
    "                print('Iter {:04d} | Total Loss {:.6f}'.format(itr, loss.item()))\n",
    "        itr += 1\n",
    "\n",
    "    loss_arr_BP.append(loss_arr)\n",
    "    best_params_BPTT.append(deepcopy(best_model))\n",
    "\n",
    "end_time = time.time()\n",
    "elapsed_time = end_time - start_time\n",
    "print(\"time\", elapsed_time)"
   ]
  },
  {
   "cell_type": "code",
   "execution_count": 62,
   "id": "fd4035ec",
   "metadata": {},
   "outputs": [
    {
     "data": {
      "text/plain": [
       "9.03995660820828"
      ]
     },
     "execution_count": 62,
     "metadata": {},
     "output_type": "execute_result"
    }
   ],
   "source": [
    "1/(110.62/5/200)"
   ]
  },
  {
   "cell_type": "code",
   "execution_count": 17,
   "id": "4db34d39",
   "metadata": {},
   "outputs": [],
   "source": [
    "target_x = torch.tensor([1.0,0.0])\n",
    "\n",
    "# hyperparameters EKI\n",
    "number_iterations = 20\n",
    "new_ensemble_members = 20\n",
    "c0 = 1e-2\n",
    "C0 = torch.eye(1) * c0"
   ]
  },
  {
   "cell_type": "code",
   "execution_count": 18,
   "id": "2b3ed34e",
   "metadata": {
    "scrolled": true
   },
   "outputs": [
    {
     "ename": "RuntimeError",
     "evalue": "This function was deprecated since version 1.9 and is now removed. `torch.lstsq` is deprecated in favor of `torch.linalg.lstsq`.\n`torch.linalg.lstsq` has reversed arguments and does not return the QR decomposition in the returned tuple (although it returns other information about the problem).\n\nTo get the QR decomposition consider using `torch.linalg.qr`.\n\nThe returned solution in `torch.lstsq` stored the residuals of the solution in the last m - n columns of the returned value whenever m > n. In torch.linalg.lstsq, the residuals are in the field 'residuals' of the returned named tuple.\n\nThe unpacking of the solution, as in\nX, _ = torch.lstsq(B, A).solution[:A.size(1)]\nshould be replaced with:\nX = torch.linalg.lstsq(A, B).solution",
     "output_type": "error",
     "traceback": [
      "\u001b[1;31m---------------------------------------------------------------------------\u001b[0m",
      "\u001b[1;31mRuntimeError\u001b[0m                              Traceback (most recent call last)",
      "Cell \u001b[1;32mIn[18], line 35\u001b[0m\n\u001b[0;32m     30\u001b[0m loss_arr\u001b[38;5;241m.\u001b[39mappend(loss)\n\u001b[0;32m     32\u001b[0m \u001b[38;5;28;01mfor\u001b[39;00m n \u001b[38;5;129;01min\u001b[39;00m \u001b[38;5;28mrange\u001b[39m(number_iterations):\n\u001b[0;32m     33\u001b[0m     \u001b[38;5;66;03m#print(n,F_u[:,0].mean(),F_u[:,0].std(),F_u[:,1].mean(),F_u[:,1].std())\u001b[39;00m\n\u001b[0;32m     34\u001b[0m     \u001b[38;5;66;03m#print(F_u[torch.logical_and(torch.abs(F_u[:,1]-opt_energy) <= 0.01,torch.abs(F_u[:,0]-1) <= 0.005)])\u001b[39;00m\n\u001b[1;32m---> 35\u001b[0m     u \u001b[38;5;241m=\u001b[39m \u001b[43mupdate_step\u001b[49m\u001b[43m(\u001b[49m\u001b[43mu\u001b[49m\u001b[43m,\u001b[49m\u001b[43m \u001b[49m\u001b[43mF_u\u001b[49m\u001b[43m,\u001b[49m\u001b[43m \u001b[49m\u001b[43my\u001b[49m\u001b[43m,\u001b[49m\u001b[43m \u001b[49m\u001b[43mSigma\u001b[49m\u001b[43m,\u001b[49m\u001b[43m \u001b[49m\u001b[43mensemble_members\u001b[49m\u001b[43m)\u001b[49m\n\u001b[0;32m     37\u001b[0m     F_u \u001b[38;5;241m=\u001b[39m compute_F_u(u, ODE_func, true_x0, t, ensemble_members, number_layers, number_neurons)\n\u001b[0;32m     39\u001b[0m     min_ind \u001b[38;5;241m=\u001b[39m torch\u001b[38;5;241m.\u001b[39margmin(\u001b[38;5;241m0.5\u001b[39m\u001b[38;5;241m*\u001b[39m(F_u[:,\u001b[38;5;241m0\u001b[39m]\u001b[38;5;241m-\u001b[39my[:,\u001b[38;5;241m0\u001b[39m])\u001b[38;5;241m*\u001b[39m\u001b[38;5;241m*\u001b[39m\u001b[38;5;241m2\u001b[39m\u001b[38;5;241m+\u001b[39mlamb\u001b[38;5;241m*\u001b[39m\u001b[38;5;241m0.5\u001b[39m\u001b[38;5;241m*\u001b[39mF_u[:,\u001b[38;5;241m1\u001b[39m]\u001b[38;5;241m*\u001b[39m\u001b[38;5;241m*\u001b[39m\u001b[38;5;241m2\u001b[39m)\n",
      "File \u001b[1;32md:\\Spring24  Research\\eki-neural-ode\\utilities_sqrt_energy.py:136\u001b[0m, in \u001b[0;36mupdate_step\u001b[1;34m(u, F_u, y, Sigma, ensemble_members, rescale_time_step, h0, eps)\u001b[0m\n\u001b[0;32m    134\u001b[0m Sigma_repeat \u001b[38;5;241m=\u001b[39m Sigma\u001b[38;5;241m.\u001b[39munsqueeze(\u001b[38;5;241m0\u001b[39m)\u001b[38;5;241m.\u001b[39mrepeat(ensemble_members,\u001b[38;5;241m1\u001b[39m,\u001b[38;5;241m1\u001b[39m)\n\u001b[0;32m    135\u001b[0m Sigma_block \u001b[38;5;241m=\u001b[39m torch\u001b[38;5;241m.\u001b[39mblock_diag(\u001b[38;5;241m*\u001b[39mSigma_repeat)\n\u001b[1;32m--> 136\u001b[0m lstsq \u001b[38;5;241m=\u001b[39m (\u001b[43mtorch\u001b[49m\u001b[38;5;241;43m.\u001b[39;49m\u001b[43mlstsq\u001b[49m\u001b[43m(\u001b[49m\u001b[43m(\u001b[49m\u001b[43mF_u\u001b[49m\u001b[38;5;241;43m-\u001b[39;49m\u001b[43my\u001b[49m\u001b[43m)\u001b[49m\u001b[38;5;241;43m.\u001b[39;49m\u001b[43mflatten\u001b[49m\u001b[43m(\u001b[49m\u001b[43m)\u001b[49m\u001b[43m,\u001b[49m\u001b[43mSigma_block\u001b[49m\u001b[43m)\u001b[49m[\u001b[38;5;241m0\u001b[39m])\u001b[38;5;241m.\u001b[39mreshape(F_u\u001b[38;5;241m.\u001b[39msize())\n\u001b[0;32m    138\u001b[0m h \u001b[38;5;241m=\u001b[39m \u001b[38;5;241m1\u001b[39m\n\u001b[0;32m    139\u001b[0m delta_u \u001b[38;5;241m=\u001b[39m (Cuw_u \u001b[38;5;241m@\u001b[39m lstsq\u001b[38;5;241m.\u001b[39mT)\u001b[38;5;241m.\u001b[39mT\n",
      "File \u001b[1;32mc:\\Users\\Bergt\\AppData\\Local\\Programs\\Python\\Python311\\Lib\\site-packages\\torch\\_linalg_utils.py:117\u001b[0m, in \u001b[0;36mlstsq\u001b[1;34m(input, A, out)\u001b[0m\n\u001b[0;32m    116\u001b[0m \u001b[38;5;28;01mdef\u001b[39;00m \u001b[38;5;21mlstsq\u001b[39m(\u001b[38;5;28minput\u001b[39m: Tensor, A: Tensor, \u001b[38;5;241m*\u001b[39m, out\u001b[38;5;241m=\u001b[39m\u001b[38;5;28;01mNone\u001b[39;00m) \u001b[38;5;241m-\u001b[39m\u001b[38;5;241m>\u001b[39m Tuple[Tensor, Tensor]:\n\u001b[1;32m--> 117\u001b[0m     \u001b[38;5;28;01mraise\u001b[39;00m \u001b[38;5;167;01mRuntimeError\u001b[39;00m(\n\u001b[0;32m    118\u001b[0m         \u001b[38;5;124m\"\u001b[39m\u001b[38;5;124mThis function was deprecated since version 1.9 and is now removed. \u001b[39m\u001b[38;5;124m\"\u001b[39m\n\u001b[0;32m    119\u001b[0m         \u001b[38;5;124m\"\u001b[39m\u001b[38;5;124m`torch.lstsq` is deprecated in favor of `torch.linalg.lstsq`.\u001b[39m\u001b[38;5;130;01m\\n\u001b[39;00m\u001b[38;5;124m\"\u001b[39m\n\u001b[0;32m    120\u001b[0m         \u001b[38;5;124m\"\u001b[39m\u001b[38;5;124m`torch.linalg.lstsq` has reversed arguments and does not return the QR decomposition in \u001b[39m\u001b[38;5;124m\"\u001b[39m\n\u001b[0;32m    121\u001b[0m         \u001b[38;5;124m\"\u001b[39m\u001b[38;5;124mthe returned tuple (although it returns other information about the problem).\u001b[39m\u001b[38;5;130;01m\\n\u001b[39;00m\u001b[38;5;130;01m\\n\u001b[39;00m\u001b[38;5;124m\"\u001b[39m\n\u001b[0;32m    122\u001b[0m         \u001b[38;5;124m\"\u001b[39m\u001b[38;5;124mTo get the QR decomposition consider using `torch.linalg.qr`.\u001b[39m\u001b[38;5;130;01m\\n\u001b[39;00m\u001b[38;5;130;01m\\n\u001b[39;00m\u001b[38;5;124m\"\u001b[39m\n\u001b[0;32m    123\u001b[0m         \u001b[38;5;124m\"\u001b[39m\u001b[38;5;124mThe returned solution in `torch.lstsq` stored the residuals of the solution in the \u001b[39m\u001b[38;5;124m\"\u001b[39m\n\u001b[0;32m    124\u001b[0m         \u001b[38;5;124m\"\u001b[39m\u001b[38;5;124mlast m - n columns of the returned value whenever m > n. In torch.linalg.lstsq, \u001b[39m\u001b[38;5;124m\"\u001b[39m\n\u001b[0;32m    125\u001b[0m         \u001b[38;5;124m\"\u001b[39m\u001b[38;5;124mthe residuals are in the field \u001b[39m\u001b[38;5;124m'\u001b[39m\u001b[38;5;124mresiduals\u001b[39m\u001b[38;5;124m'\u001b[39m\u001b[38;5;124m of the returned named tuple.\u001b[39m\u001b[38;5;130;01m\\n\u001b[39;00m\u001b[38;5;130;01m\\n\u001b[39;00m\u001b[38;5;124m\"\u001b[39m\n\u001b[0;32m    126\u001b[0m         \u001b[38;5;124m\"\u001b[39m\u001b[38;5;124mThe unpacking of the solution, as in\u001b[39m\u001b[38;5;130;01m\\n\u001b[39;00m\u001b[38;5;124m\"\u001b[39m\n\u001b[0;32m    127\u001b[0m         \u001b[38;5;124m\"\u001b[39m\u001b[38;5;124mX, _ = torch.lstsq(B, A).solution[:A.size(1)]\u001b[39m\u001b[38;5;130;01m\\n\u001b[39;00m\u001b[38;5;124m\"\u001b[39m\n\u001b[0;32m    128\u001b[0m         \u001b[38;5;124m\"\u001b[39m\u001b[38;5;124mshould be replaced with:\u001b[39m\u001b[38;5;130;01m\\n\u001b[39;00m\u001b[38;5;124m\"\u001b[39m\n\u001b[0;32m    129\u001b[0m         \u001b[38;5;124m\"\u001b[39m\u001b[38;5;124mX = torch.linalg.lstsq(A, B).solution\u001b[39m\u001b[38;5;124m\"\u001b[39m\n\u001b[0;32m    130\u001b[0m     )\n",
      "\u001b[1;31mRuntimeError\u001b[0m: This function was deprecated since version 1.9 and is now removed. `torch.lstsq` is deprecated in favor of `torch.linalg.lstsq`.\n`torch.linalg.lstsq` has reversed arguments and does not return the QR decomposition in the returned tuple (although it returns other information about the problem).\n\nTo get the QR decomposition consider using `torch.linalg.qr`.\n\nThe returned solution in `torch.lstsq` stored the residuals of the solution in the last m - n columns of the returned value whenever m > n. In torch.linalg.lstsq, the residuals are in the field 'residuals' of the returned named tuple.\n\nThe unpacking of the solution, as in\nX, _ = torch.lstsq(B, A).solution[:A.size(1)]\nshould be replaced with:\nX = torch.linalg.lstsq(A, B).solution"
     ]
    }
   ],
   "source": [
    "best_params_EKI = []\n",
    "loss_arr_EKI = []\n",
    "\n",
    "lamb_arr = [1e-3,2.5e-3,5e-3,7.5e-3,1e-2]\n",
    "\n",
    "start_time = time.time()\n",
    "\n",
    "for lamb in lamb_arr:\n",
    "    torch.manual_seed(123)\n",
    "    \n",
    "    ensemble_members = 2\n",
    "    gamma = 0.3\n",
    "    Gamma = torch.eye(1) * gamma\n",
    "    y = target_x.repeat(ensemble_members)\n",
    "    y = y.reshape(ensemble_members,2)\n",
    "    \n",
    "    best_loss = 1e9\n",
    "    best_params = 0\n",
    "    loss_arr = []\n",
    "    \n",
    "    Sigma = torch.block_diag(Gamma,lamb**-1*C0)\n",
    "\n",
    "    func_enkf = ODE_func(number_layers, number_neurons)\n",
    "    nn_params = get_weights(func_enkf)\n",
    "\n",
    "    u, F_u = generate_initial_ensemble(ODE_func, true_x0, t, ensemble_members, number_layers, number_neurons)\n",
    "\n",
    "    min_ind = torch.argmin(0.5*(F_u[:,0]-y[:,0])**2+lamb*0.5*F_u[:,1]**2)\n",
    "    loss = (0.5*(F_u[:,0]-y[:,0])**2+lamb*0.5*F_u[:,1]**2)[min_ind]\n",
    "    loss_arr.append(loss)\n",
    "\n",
    "    for n in range(number_iterations):\n",
    "        #print(n,F_u[:,0].mean(),F_u[:,0].std(),F_u[:,1].mean(),F_u[:,1].std())\n",
    "        #print(F_u[torch.logical_and(torch.abs(F_u[:,1]-opt_energy) <= 0.01,torch.abs(F_u[:,0]-1) <= 0.005)])\n",
    "        u = update_step(u, F_u, y, Sigma, ensemble_members)\n",
    "\n",
    "        F_u = compute_F_u(u, ODE_func, true_x0, t, ensemble_members, number_layers, number_neurons)\n",
    "       \n",
    "        min_ind = torch.argmin(0.5*(F_u[:,0]-y[:,0])**2+lamb*0.5*F_u[:,1]**2)\n",
    "        loss = (0.5*(F_u[:,0]-y[:,0])**2+lamb*0.5*F_u[:,1]**2)[min_ind]\n",
    "        loss_arr.append(loss)\n",
    "        print(n,loss,F_u[min_ind][0],F_u[min_ind][1]**2)\n",
    "\n",
    "        if loss < best_loss:\n",
    "            best_loss = loss\n",
    "            best_params = u[min_ind]\n",
    "\n",
    "        if n == 2:\n",
    "            gamma = 0.15\n",
    "            Gamma = torch.eye(1) * gamma\n",
    "            Sigma = torch.block_diag(Gamma,lamb**-1*C0)\n",
    "\n",
    "            u, ensemble_members = add_new_ensemble_members(u, ODE_func, new_ensemble_members, number_layers, number_neurons)\n",
    "\n",
    "            F_u = compute_F_u(u, ODE_func, true_x0, t, ensemble_members, number_layers, number_neurons)\n",
    "\n",
    "            y = target_x.repeat(ensemble_members)\n",
    "            y = y.reshape(ensemble_members,2)\n",
    "        \n",
    "    loss_arr_EKI.append(loss_arr)\n",
    "    best_params_EKI.append(deepcopy(best_params))\n",
    "\n",
    "end_time = time.time()\n",
    "elapsed_time = end_time - start_time\n",
    "print(\"time\", elapsed_time)"
   ]
  },
  {
   "cell_type": "code",
   "execution_count": 63,
   "id": "09b31d0a",
   "metadata": {},
   "outputs": [
    {
     "data": {
      "text/plain": [
       "0.8879417510211329"
      ]
     },
     "execution_count": 63,
     "metadata": {},
     "output_type": "execute_result"
    }
   ],
   "source": [
    "1/(112.62/5/20)"
   ]
  },
  {
   "cell_type": "code",
   "execution_count": 50,
   "id": "1d4eca9e",
   "metadata": {},
   "outputs": [
    {
     "name": "stdout",
     "output_type": "stream",
     "text": [
      "1.1129303810332303\n",
      "1.0266116518807777\n",
      "1.026862749771551\n",
      "1.148831394108365\n",
      "1.3518859755466206\n",
      "0.5901537969632109\n",
      "0.5055333496852565\n",
      "0.5032998163651303\n",
      "0.47594305101309686\n",
      "0.40967506070469284\n"
     ]
    },
    {
     "name": "stderr",
     "output_type": "stream",
     "text": [
      "/home/lucasb/anaconda3/envs/inventory/lib/python3.6/site-packages/ipykernel_launcher.py:90: UserWarning: This figure was using constrained_layout==True, but that is incompatible with subplots_adjust and or tight_layout: setting constrained_layout==False. \n"
     ]
    },
    {
     "data": {
      "image/png": "[encoded data removed]",
      "text/plain": [
       "<Figure size 486x306.18 with 4 Axes>"
      ]
     },
     "metadata": {},
     "output_type": "display_data"
    }
   ],
   "source": [
    "fig = plt.figure(constrained_layout=True)\n",
    "fig.patch.set_facecolor('white')\n",
    "mosaic = \"\"\"\n",
    "                AB\n",
    "                CD\n",
    "                \"\"\"\n",
    "ax_dict = fig.subplot_mosaic(mosaic)\n",
    "\n",
    "ax_dict[\"A\"].text(0.38,0.83,r\"BPTT\")\n",
    "ax_dict[\"B\"].text(0.42,0.83,r\"EKI\")\n",
    "ax_dict[\"C\"].text(0.38*200,0.09*1e2,r\"BPTT\")\n",
    "ax_dict[\"D\"].text(0.42*20,0.09*1e2,r\"EKI\")\n",
    "\n",
    "ax_dict[\"A\"].plot(t,np.sinh(t)/np.sinh(1),color=\"k\",ls=(0, (5, 1)))\n",
    "ax_dict[\"A\"].plot(t,np.exp(-t)/np.sinh(1),color=\"k\",ls=(0, (1, 1)))\n",
    "\n",
    "ax_dict[\"B\"].plot(t,np.sinh(t)/np.sinh(1),color=\"k\",ls=(0, (5, 1)))\n",
    "ax_dict[\"B\"].plot(t,np.exp(-t)/np.sinh(1),color=\"k\",ls=(0, (1, 1)))\n",
    "\n",
    "for i in range(len(best_params_BPTT)):\n",
    "    func = ODE_func(number_layers, number_neurons)\n",
    "    func = best_params_BPTT[i]\n",
    "    pred_x = odeint(func, true_x0, t, method=\"dopri5\")\n",
    "\n",
    "    func.output_control = True\n",
    "    u_hat = np.array([float(func(x,torch.tensor([0.0]))) for x in t])\n",
    "    func.output_control = False\n",
    "\n",
    "    ax_dict[\"A\"].plot(t,pred_x[:,0].detach(),color=\"tab:blue\",alpha=0.3)\n",
    "    ax_dict[\"A\"].plot(t,u_hat,color=\"tab:red\",alpha=0.3)\n",
    "    \n",
    "    print(1e3*mean_squared_error(np.exp(-t)/np.sinh(1),u_hat))\n",
    "\n",
    "for i in range(len(best_params_EKI)):\n",
    "    updated_params = npvec_to_tensorlist(best_params_EKI[i],nn_params)\n",
    "    set_weights(func_enkf,updated_params)\n",
    "\n",
    "    pred_x = odeint(func_enkf, true_x0, t, method='dopri5')\n",
    "\n",
    "    func_enkf.output_control = True\n",
    "    u_hat = np.array([float(func_enkf(x,torch.tensor([0.0]))) for x in t])\n",
    "    func_enkf.output_control = False\n",
    "\n",
    "    print(1e3*mean_squared_error(np.exp(-t)/np.sinh(1),u_hat))\n",
    "\n",
    "    ax_dict[\"B\"].plot(t,pred_x[:,0].detach(),color=\"tab:blue\",alpha=0.6)\n",
    "    ax_dict[\"B\"].plot(t,u_hat,color=\"tab:red\",alpha=0.6)\n",
    "    \n",
    "    ax_dict[\"C\"].plot(loss_arr_BP[i],color=\"k\",alpha=0.6)\n",
    "    ax_dict[\"D\"].plot(loss_arr_EKI[i],color=\"k\",alpha=0.6)\n",
    "\n",
    "ax_dict[\"C\"].annotate(r\"$\\mu$\", xy=(130, 1e-4), xytext=(135, 2e-2), arrowprops={\"arrowstyle\":\"<-\", \"color\":\"k\"})    \n",
    "ax_dict[\"D\"].annotate(r\"$\\mu$\", xy=(13, 1e-4), xytext=(13.5, 2e-2), arrowprops={\"arrowstyle\":\"<-\", \"color\":\"k\"})    \n",
    "\n",
    "text = ax_dict[\"A\"].text(0.03*1,0.88*1,r\"(a)\")\n",
    "text.set_bbox(dict(facecolor='white', alpha=0.8, edgecolor='white', pad=0))\n",
    "text = ax_dict[\"B\"].text(0.03*1,0.88*1,r\"(b)\")\n",
    "text.set_bbox(dict(facecolor='white', alpha=0.8, edgecolor='white', pad=0))\n",
    "text = ax_dict[\"C\"].text(0.03*200,0.17*1e2,r\"(c)\")\n",
    "text.set_bbox(dict(facecolor='white', alpha=0.8, edgecolor='white', pad=0))\n",
    "text = ax_dict[\"D\"].text(0.03*20,0.17*1e2,r\"(d)\")\n",
    "text.set_bbox(dict(facecolor='white', alpha=0.8, edgecolor='white', pad=0))\n",
    "\n",
    "ax_dict[\"A\"].set_xlim(0,1)\n",
    "ax_dict[\"A\"].set_ylim(0,1)\n",
    "ax_dict[\"A\"].xaxis.set_minor_locator(ticker.MultipleLocator(0.05))\n",
    "ax_dict[\"A\"].yaxis.set_minor_locator(ticker.MultipleLocator(0.05))\n",
    "ax_dict[\"A\"].set_xlabel(r\"$t$\")\n",
    "ax_dict[\"A\"].set_ylabel(r\"$x(t),u(t)$\")\n",
    "\n",
    "ax_dict[\"B\"].set_xlim(0,1)\n",
    "ax_dict[\"B\"].set_ylim(0,1)\n",
    "ax_dict[\"B\"].xaxis.set_minor_locator(ticker.MultipleLocator(0.05))\n",
    "ax_dict[\"B\"].yaxis.set_minor_locator(ticker.MultipleLocator(0.05))\n",
    "ax_dict[\"B\"].set_xlabel(r\"$t$\")\n",
    "\n",
    "ax_dict[\"C\"].set_xlabel(r\"epoch $m$\")\n",
    "ax_dict[\"C\"].set_ylabel(r\"$\\tilde{\\Phi}(\\theta^{(m)};x^*)$\")\n",
    "ax_dict[\"C\"].set_xlim(0,200)\n",
    "ax_dict[\"C\"].set_ylim(1e-4,1e2)\n",
    "ax_dict[\"C\"].xaxis.set_minor_locator(ticker.MultipleLocator(10))\n",
    "ax_dict[\"C\"].set_yscale(\"log\")\n",
    "\n",
    "ax_dict[\"D\"].set_xlabel(r\"epoch $m$\")\n",
    "ax_dict[\"D\"].set_xlim(0,20)\n",
    "ax_dict[\"D\"].set_ylim(1e-4,1e2)\n",
    "ax_dict[\"D\"].xaxis.set_minor_locator(ticker.MultipleLocator(1))\n",
    "ax_dict[\"D\"].set_yscale(\"log\")\n",
    "\n",
    "plt.tight_layout()\n",
    "plt.subplots_adjust(wspace=0.3)\n",
    "plt.savefig(\"bptt_vs_eki_control_icml.png\",dpi=480)\n",
    "plt.show()"
   ]
  },
  {
   "cell_type": "code",
   "execution_count": 76,
   "id": "f8e18be0",
   "metadata": {},
   "outputs": [
    {
     "data": {
      "text/plain": [
       "106"
      ]
     },
     "execution_count": 76,
     "metadata": {},
     "output_type": "execute_result"
    }
   ],
   "source": [
    "len(tensorlist_to_tensor(get_weights(func_enkf)))"
   ]
  },
  {
   "cell_type": "code",
   "execution_count": null,
   "id": "8909073b",
   "metadata": {},
   "outputs": [],
   "source": []
  }
 ],
 "metadata": {
  "kernelspec": {
   "display_name": "Python 3",
   "language": "python",
   "name": "python3"
  },
  "language_info": {
   "codemirror_mode": {
    "name": "ipython",
    "version": 3
   },
   "file_extension": ".py",
   "mimetype": "text/x-python",
   "name": "python",
   "nbconvert_exporter": "python",
   "pygments_lexer": "ipython3",
   "version": "3.11.2"
  }
 },
 "nbformat": 4,
 "nbformat_minor": 5
}
