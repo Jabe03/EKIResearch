{
 "cells": [
  {
   "cell_type": "code",
   "execution_count": 1,
   "id": "0602bebf",
   "metadata": {},
   "outputs": [],
   "source": [
    "import numpy as np\n",
    "import torch\n",
    "import time\n",
    "import torch.nn as nn\n",
    "import torch.optim as optim\n",
    "from torchdiffeq import odeint\n",
    "from scipy.integrate import solve_ivp\n",
    "\n",
    "import matplotlib.pyplot as plt\n",
    "from copy import deepcopy\n",
    "from utilities import *\n",
    "from matplotlib import rcParams\n",
    "import matplotlib.ticker as ticker\n",
    "import seaborn as sns"
   ]
  },
  {
   "cell_type": "code",
   "execution_count": 2,
   "id": "00b3912d",
   "metadata": {},
   "outputs": [],
   "source": [
    "# customized settings\n",
    "params = {  # 'backend': 'ps',\n",
    "    'font.family': 'serif',\n",
    "    'font.serif': 'Latin Modern Roman',\n",
    "    'font.size': 8,\n",
    "    'axes.labelsize': 'medium',\n",
    "    'axes.titlesize': 'medium',\n",
    "    'legend.fontsize': 'medium',\n",
    "    'xtick.labelsize': 'small',\n",
    "    'ytick.labelsize': 'small',\n",
    "    'savefig.dpi': 150,\n",
    "    'text.usetex': True, \n",
    "    'legend.title_fontsize': 8}\n",
    "# tell matplotlib about your params\n",
    "rcParams.update(params)\n",
    "\n",
    "fig_width_pt = 487.8225/2.3 # Get this from LaTeX using \\showthe\\columnwidth\n",
    "golden_mean = (np.sqrt(5.) - 1.) / 2.  # Aesthetic ratio\n",
    "ratio = golden_mean\n",
    "inches_per_pt = 1. / 72.27  # Convert pt to inches\n",
    "fig_width = fig_width_pt * inches_per_pt  # width in inches\n",
    "fig_height = fig_width*0.9#*ratio  # height in inches\n",
    "fig_size = [fig_width,2*0.9*fig_width]\n",
    "rcParams.update({'figure.figsize': fig_size})"
   ]
  },
  {
   "cell_type": "code",
   "execution_count": 29,
   "id": "45ca0407",
   "metadata": {},
   "outputs": [],
   "source": [
    "sns.set_context(\"paper\")"
   ]
  },
  {
   "cell_type": "markdown",
   "id": "cc3185f8",
   "metadata": {},
   "source": [
    "# Solve pendulum ODE with RK45"
   ]
  },
  {
   "cell_type": "code",
   "execution_count": 7,
   "id": "eebcf925",
   "metadata": {},
   "outputs": [],
   "source": [
    "f = lambda t,x: np.array([x[1],-np.sin(x[0])])"
   ]
  },
  {
   "cell_type": "code",
   "execution_count": 8,
   "id": "49e7fba8",
   "metadata": {},
   "outputs": [],
   "source": [
    "x0 = np.array([np.pi/4, 0])"
   ]
  },
  {
   "cell_type": "code",
   "execution_count": 9,
   "id": "5511228a",
   "metadata": {},
   "outputs": [],
   "source": [
    "T = 20\n",
    "t = np.linspace(0, T, 200)"
   ]
  },
  {
   "cell_type": "code",
   "execution_count": 27,
   "id": "0afe334e",
   "metadata": {},
   "outputs": [],
   "source": [
    "sol = solve_ivp(f, (0,T), x0, t_eval = t, method='RK45')"
   ]
  },
  {
   "cell_type": "code",
   "execution_count": 8,
   "id": "346ea81f",
   "metadata": {},
   "outputs": [
    {
     "data": {
      "image/png": "[encoded data removed]",
      "text/plain": [
       "<Figure size 368.618x165.878 with 1 Axes>"
      ]
     },
     "metadata": {
      "needs_background": "light"
     },
     "output_type": "display_data"
    }
   ],
   "source": [
    "fig = plt.figure()\n",
    "plt.plot(sol.t, sol.y[0,:], '-', color = 'DarkBlue')\n",
    "plt.plot(sol.t, sol.y[1,:], '-', color = 'DarkRed')\n",
    "plt.xlabel(r'$t$')\n",
    "plt.ylabel(r'$\\varphi,\\dot{\\varphi}$')\n",
    "plt.tight_layout()\n",
    "plt.show()"
   ]
  },
  {
   "cell_type": "markdown",
   "id": "345bd9fb",
   "metadata": {},
   "source": [
    "# Using neural ODEs to learn a dynamical system"
   ]
  },
  {
   "cell_type": "code",
   "execution_count": 10,
   "id": "9043f899",
   "metadata": {},
   "outputs": [],
   "source": [
    "true_x0 = torch.tensor([[np.pi/4, 0]])\n",
    "t = torch.linspace(0., T, 200)"
   ]
  },
  {
   "cell_type": "markdown",
   "id": "467c0dd5",
   "metadata": {},
   "source": [
    "Define right-hand side of ODE"
   ]
  },
  {
   "cell_type": "code",
   "execution_count": 11,
   "id": "c5e16c8e",
   "metadata": {},
   "outputs": [],
   "source": [
    "class Lambda(nn.Module):\n",
    "\n",
    "    def forward(self, t, y):\n",
    "        \n",
    "        return torch.tensor([y[0,1],-1.0*np.sin(y[0,0])])"
   ]
  },
  {
   "cell_type": "markdown",
   "id": "347cd679",
   "metadata": {},
   "source": [
    "Define neural ODE"
   ]
  },
  {
   "cell_type": "code",
   "execution_count": 3,
   "id": "010abc44",
   "metadata": {},
   "outputs": [],
   "source": [
    "class ODE_func(nn.Module):\n",
    "\n",
    "    def __init__(self):\n",
    "        super(ODE_func, self).__init__()\n",
    "\n",
    "        self.net = nn.Sequential(\n",
    "            nn.Linear(2, 10),\n",
    "            nn.Tanh(),\n",
    "            nn.Linear(10, 2)\n",
    "        )\n",
    "\n",
    "        #for m in self.net.modules():\n",
    "        #   if isinstance(m, nn.Linear):\n",
    "        #        nn.init.normal_(m.weight, mean=0, std=0.1)\n",
    "        #        nn.init.constant_(m.bias, val=0)\n",
    "\n",
    "    def forward(self, t, y):\n",
    "        return self.net(y)"
   ]
  },
  {
   "cell_type": "markdown",
   "id": "2ffbdd35",
   "metadata": {},
   "source": [
    "Generate batches based on observed trajectory"
   ]
  },
  {
   "cell_type": "code",
   "execution_count": 4,
   "id": "eb90a8e3",
   "metadata": {},
   "outputs": [],
   "source": [
    "def get_batch():\n",
    "    s = torch.from_numpy(np.random.choice(np.arange(data_size - batch_time, dtype=np.int64), batch_size, replace=False))\n",
    "    batch_x0 = true_x[s]  # (M, D)\n",
    "    batch_t = t[:batch_time]  # (T)\n",
    "    batch_t_2  = t[s]\n",
    "    batch_x = torch.stack([true_x[s + i] for i in range(batch_time)], dim=0)  # (T, M, D)\n",
    "    return batch_x0, batch_t, batch_t_2, batch_x"
   ]
  },
  {
   "cell_type": "code",
   "execution_count": 12,
   "id": "b91e57ab",
   "metadata": {},
   "outputs": [],
   "source": [
    "true_x = odeint(Lambda(), true_x0, t, method='dopri5')"
   ]
  },
  {
   "cell_type": "code",
   "execution_count": 14,
   "id": "c540159b",
   "metadata": {},
   "outputs": [
    {
     "data": {
      "image/png": "[encoded data removed]",
      "text/plain": [
       "<Figure size 368.618x165.878 with 1 Axes>"
      ]
     },
     "metadata": {
      "needs_background": "light"
     },
     "output_type": "display_data"
    }
   ],
   "source": [
    "fig = plt.figure()\n",
    "plt.plot(t, true_x[:,0,0], '-', color = 'DarkBlue')\n",
    "plt.plot(t, true_x[:,0,1], '-', color = 'DarkRed')\n",
    "plt.xlabel(r'$t$')\n",
    "plt.ylabel(r'$\\varphi,\\dot{\\varphi}$')\n",
    "plt.tight_layout()\n",
    "plt.show()"
   ]
  },
  {
   "cell_type": "code",
   "execution_count": 13,
   "id": "a013e191",
   "metadata": {},
   "outputs": [
    {
     "name": "stdout",
     "output_type": "stream",
     "text": [
      "0 0.02517247200012207 tensor(0.0691, grad_fn=<MeanBackward0>)\n"
     ]
    },
    {
     "ename": "KeyboardInterrupt",
     "evalue": "",
     "output_type": "error",
     "traceback": [
      "\u001b[0;31m---------------------------------------------------------------------------\u001b[0m",
      "\u001b[0;31mKeyboardInterrupt\u001b[0m                         Traceback (most recent call last)",
      "\u001b[0;32m<ipython-input-13-34d4b80d4a22>\u001b[0m in \u001b[0;36m<module>\u001b[0;34m\u001b[0m\n\u001b[1;32m     22\u001b[0m \u001b[0;34m\u001b[0m\u001b[0m\n\u001b[1;32m     23\u001b[0m     \u001b[0moptimizer\u001b[0m\u001b[0;34m.\u001b[0m\u001b[0mzero_grad\u001b[0m\u001b[0;34m(\u001b[0m\u001b[0;34m)\u001b[0m\u001b[0;34m\u001b[0m\u001b[0;34m\u001b[0m\u001b[0m\n\u001b[0;32m---> 24\u001b[0;31m     \u001b[0mpred_x\u001b[0m \u001b[0;34m=\u001b[0m \u001b[0modeint\u001b[0m\u001b[0;34m(\u001b[0m\u001b[0mfunc\u001b[0m\u001b[0;34m,\u001b[0m \u001b[0mbatch_x0\u001b[0m\u001b[0;34m,\u001b[0m \u001b[0mbatch_t\u001b[0m\u001b[0;34m,\u001b[0m \u001b[0mmethod\u001b[0m\u001b[0;34m=\u001b[0m\u001b[0;34m'dopri5'\u001b[0m\u001b[0;34m)\u001b[0m\u001b[0;34m\u001b[0m\u001b[0;34m\u001b[0m\u001b[0m\n\u001b[0m\u001b[1;32m     25\u001b[0m     \u001b[0mloss\u001b[0m \u001b[0;34m=\u001b[0m \u001b[0mtorch\u001b[0m\u001b[0;34m.\u001b[0m\u001b[0mmean\u001b[0m\u001b[0;34m(\u001b[0m\u001b[0;34m(\u001b[0m\u001b[0mpred_x\u001b[0m \u001b[0;34m-\u001b[0m \u001b[0mbatch_x\u001b[0m\u001b[0;34m)\u001b[0m\u001b[0;34m**\u001b[0m\u001b[0;36m2\u001b[0m\u001b[0;34m)\u001b[0m\u001b[0;34m\u001b[0m\u001b[0;34m\u001b[0m\u001b[0m\n\u001b[1;32m     26\u001b[0m     \u001b[0mloss_arr_BP\u001b[0m\u001b[0;34m.\u001b[0m\u001b[0mappend\u001b[0m\u001b[0;34m(\u001b[0m\u001b[0mloss\u001b[0m\u001b[0;34m.\u001b[0m\u001b[0mclone\u001b[0m\u001b[0;34m(\u001b[0m\u001b[0;34m)\u001b[0m\u001b[0;34m.\u001b[0m\u001b[0mdetach\u001b[0m\u001b[0;34m(\u001b[0m\u001b[0;34m)\u001b[0m\u001b[0;34m)\u001b[0m\u001b[0;34m\u001b[0m\u001b[0;34m\u001b[0m\u001b[0m\n",
      "\u001b[0;32m~/anaconda3/envs/inventory/lib/python3.6/site-packages/torchdiffeq/_impl/odeint.py\u001b[0m in \u001b[0;36modeint\u001b[0;34m(func, y0, t, rtol, atol, method, options, event_fn)\u001b[0m\n\u001b[1;32m     75\u001b[0m \u001b[0;34m\u001b[0m\u001b[0m\n\u001b[1;32m     76\u001b[0m     \u001b[0;32mif\u001b[0m \u001b[0mevent_fn\u001b[0m \u001b[0;32mis\u001b[0m \u001b[0;32mNone\u001b[0m\u001b[0;34m:\u001b[0m\u001b[0;34m\u001b[0m\u001b[0;34m\u001b[0m\u001b[0m\n\u001b[0;32m---> 77\u001b[0;31m         \u001b[0msolution\u001b[0m \u001b[0;34m=\u001b[0m \u001b[0msolver\u001b[0m\u001b[0;34m.\u001b[0m\u001b[0mintegrate\u001b[0m\u001b[0;34m(\u001b[0m\u001b[0mt\u001b[0m\u001b[0;34m)\u001b[0m\u001b[0;34m\u001b[0m\u001b[0;34m\u001b[0m\u001b[0m\n\u001b[0m\u001b[1;32m     78\u001b[0m     \u001b[0;32melse\u001b[0m\u001b[0;34m:\u001b[0m\u001b[0;34m\u001b[0m\u001b[0;34m\u001b[0m\u001b[0m\n\u001b[1;32m     79\u001b[0m         \u001b[0mevent_t\u001b[0m\u001b[0;34m,\u001b[0m \u001b[0msolution\u001b[0m \u001b[0;34m=\u001b[0m \u001b[0msolver\u001b[0m\u001b[0;34m.\u001b[0m\u001b[0mintegrate_until_event\u001b[0m\u001b[0;34m(\u001b[0m\u001b[0mt\u001b[0m\u001b[0;34m[\u001b[0m\u001b[0;36m0\u001b[0m\u001b[0;34m]\u001b[0m\u001b[0;34m,\u001b[0m \u001b[0mevent_fn\u001b[0m\u001b[0;34m)\u001b[0m\u001b[0;34m\u001b[0m\u001b[0;34m\u001b[0m\u001b[0m\n",
      "\u001b[0;32m~/anaconda3/envs/inventory/lib/python3.6/site-packages/torchdiffeq/_impl/solvers.py\u001b[0m in \u001b[0;36mintegrate\u001b[0;34m(self, t)\u001b[0m\n\u001b[1;32m     28\u001b[0m         \u001b[0mself\u001b[0m\u001b[0;34m.\u001b[0m\u001b[0m_before_integrate\u001b[0m\u001b[0;34m(\u001b[0m\u001b[0mt\u001b[0m\u001b[0;34m)\u001b[0m\u001b[0;34m\u001b[0m\u001b[0;34m\u001b[0m\u001b[0m\n\u001b[1;32m     29\u001b[0m         \u001b[0;32mfor\u001b[0m \u001b[0mi\u001b[0m \u001b[0;32min\u001b[0m \u001b[0mrange\u001b[0m\u001b[0;34m(\u001b[0m\u001b[0;36m1\u001b[0m\u001b[0;34m,\u001b[0m \u001b[0mlen\u001b[0m\u001b[0;34m(\u001b[0m\u001b[0mt\u001b[0m\u001b[0;34m)\u001b[0m\u001b[0;34m)\u001b[0m\u001b[0;34m:\u001b[0m\u001b[0;34m\u001b[0m\u001b[0;34m\u001b[0m\u001b[0m\n\u001b[0;32m---> 30\u001b[0;31m             \u001b[0msolution\u001b[0m\u001b[0;34m[\u001b[0m\u001b[0mi\u001b[0m\u001b[0;34m]\u001b[0m \u001b[0;34m=\u001b[0m \u001b[0mself\u001b[0m\u001b[0;34m.\u001b[0m\u001b[0m_advance\u001b[0m\u001b[0;34m(\u001b[0m\u001b[0mt\u001b[0m\u001b[0;34m[\u001b[0m\u001b[0mi\u001b[0m\u001b[0;34m]\u001b[0m\u001b[0;34m)\u001b[0m\u001b[0;34m\u001b[0m\u001b[0;34m\u001b[0m\u001b[0m\n\u001b[0m\u001b[1;32m     31\u001b[0m         \u001b[0;32mreturn\u001b[0m \u001b[0msolution\u001b[0m\u001b[0;34m\u001b[0m\u001b[0;34m\u001b[0m\u001b[0m\n\u001b[1;32m     32\u001b[0m \u001b[0;34m\u001b[0m\u001b[0m\n",
      "\u001b[0;32m~/anaconda3/envs/inventory/lib/python3.6/site-packages/torchdiffeq/_impl/rk_common.py\u001b[0m in \u001b[0;36m_advance\u001b[0;34m(self, next_t)\u001b[0m\n\u001b[1;32m    192\u001b[0m         \u001b[0;32mwhile\u001b[0m \u001b[0mnext_t\u001b[0m \u001b[0;34m>\u001b[0m \u001b[0mself\u001b[0m\u001b[0;34m.\u001b[0m\u001b[0mrk_state\u001b[0m\u001b[0;34m.\u001b[0m\u001b[0mt1\u001b[0m\u001b[0;34m:\u001b[0m\u001b[0;34m\u001b[0m\u001b[0;34m\u001b[0m\u001b[0m\n\u001b[1;32m    193\u001b[0m             \u001b[0;32massert\u001b[0m \u001b[0mn_steps\u001b[0m \u001b[0;34m<\u001b[0m \u001b[0mself\u001b[0m\u001b[0;34m.\u001b[0m\u001b[0mmax_num_steps\u001b[0m\u001b[0;34m,\u001b[0m \u001b[0;34m'max_num_steps exceeded ({}>={})'\u001b[0m\u001b[0;34m.\u001b[0m\u001b[0mformat\u001b[0m\u001b[0;34m(\u001b[0m\u001b[0mn_steps\u001b[0m\u001b[0;34m,\u001b[0m \u001b[0mself\u001b[0m\u001b[0;34m.\u001b[0m\u001b[0mmax_num_steps\u001b[0m\u001b[0;34m)\u001b[0m\u001b[0;34m\u001b[0m\u001b[0;34m\u001b[0m\u001b[0m\n\u001b[0;32m--> 194\u001b[0;31m             \u001b[0mself\u001b[0m\u001b[0;34m.\u001b[0m\u001b[0mrk_state\u001b[0m \u001b[0;34m=\u001b[0m \u001b[0mself\u001b[0m\u001b[0;34m.\u001b[0m\u001b[0m_adaptive_step\u001b[0m\u001b[0;34m(\u001b[0m\u001b[0mself\u001b[0m\u001b[0;34m.\u001b[0m\u001b[0mrk_state\u001b[0m\u001b[0;34m)\u001b[0m\u001b[0;34m\u001b[0m\u001b[0;34m\u001b[0m\u001b[0m\n\u001b[0m\u001b[1;32m    195\u001b[0m             \u001b[0mn_steps\u001b[0m \u001b[0;34m+=\u001b[0m \u001b[0;36m1\u001b[0m\u001b[0;34m\u001b[0m\u001b[0;34m\u001b[0m\u001b[0m\n\u001b[1;32m    196\u001b[0m         \u001b[0;32mreturn\u001b[0m \u001b[0m_interp_evaluate\u001b[0m\u001b[0;34m(\u001b[0m\u001b[0mself\u001b[0m\u001b[0;34m.\u001b[0m\u001b[0mrk_state\u001b[0m\u001b[0;34m.\u001b[0m\u001b[0minterp_coeff\u001b[0m\u001b[0;34m,\u001b[0m \u001b[0mself\u001b[0m\u001b[0;34m.\u001b[0m\u001b[0mrk_state\u001b[0m\u001b[0;34m.\u001b[0m\u001b[0mt0\u001b[0m\u001b[0;34m,\u001b[0m \u001b[0mself\u001b[0m\u001b[0;34m.\u001b[0m\u001b[0mrk_state\u001b[0m\u001b[0;34m.\u001b[0m\u001b[0mt1\u001b[0m\u001b[0;34m,\u001b[0m \u001b[0mnext_t\u001b[0m\u001b[0;34m)\u001b[0m\u001b[0;34m\u001b[0m\u001b[0;34m\u001b[0m\u001b[0m\n",
      "\u001b[0;32m~/anaconda3/envs/inventory/lib/python3.6/site-packages/torchdiffeq/_impl/rk_common.py\u001b[0m in \u001b[0;36m_adaptive_step\u001b[0;34m(self, rk_state)\u001b[0m\n\u001b[1;32m    253\u001b[0m         \u001b[0;31m# trigger both. (i.e. interleaving them would be wrong.)\u001b[0m\u001b[0;34m\u001b[0m\u001b[0;34m\u001b[0m\u001b[0;34m\u001b[0m\u001b[0m\n\u001b[1;32m    254\u001b[0m \u001b[0;34m\u001b[0m\u001b[0m\n\u001b[0;32m--> 255\u001b[0;31m         \u001b[0my1\u001b[0m\u001b[0;34m,\u001b[0m \u001b[0mf1\u001b[0m\u001b[0;34m,\u001b[0m \u001b[0my1_error\u001b[0m\u001b[0;34m,\u001b[0m \u001b[0mk\u001b[0m \u001b[0;34m=\u001b[0m \u001b[0m_runge_kutta_step\u001b[0m\u001b[0;34m(\u001b[0m\u001b[0mself\u001b[0m\u001b[0;34m.\u001b[0m\u001b[0mfunc\u001b[0m\u001b[0;34m,\u001b[0m \u001b[0my0\u001b[0m\u001b[0;34m,\u001b[0m \u001b[0mf0\u001b[0m\u001b[0;34m,\u001b[0m \u001b[0mt0\u001b[0m\u001b[0;34m,\u001b[0m \u001b[0mdt\u001b[0m\u001b[0;34m,\u001b[0m \u001b[0mt1\u001b[0m\u001b[0;34m,\u001b[0m \u001b[0mtableau\u001b[0m\u001b[0;34m=\u001b[0m\u001b[0mself\u001b[0m\u001b[0;34m.\u001b[0m\u001b[0mtableau\u001b[0m\u001b[0;34m)\u001b[0m\u001b[0;34m\u001b[0m\u001b[0;34m\u001b[0m\u001b[0m\n\u001b[0m\u001b[1;32m    256\u001b[0m         \u001b[0;31m# dtypes:\u001b[0m\u001b[0;34m\u001b[0m\u001b[0;34m\u001b[0m\u001b[0;34m\u001b[0m\u001b[0m\n\u001b[1;32m    257\u001b[0m         \u001b[0;31m# y1.dtype == self.y0.dtype\u001b[0m\u001b[0;34m\u001b[0m\u001b[0;34m\u001b[0m\u001b[0;34m\u001b[0m\u001b[0m\n",
      "\u001b[0;32m~/anaconda3/envs/inventory/lib/python3.6/site-packages/torchdiffeq/_impl/rk_common.py\u001b[0m in \u001b[0;36m_runge_kutta_step\u001b[0;34m(func, y0, f0, t0, dt, t1, tableau)\u001b[0m\n\u001b[1;32m     77\u001b[0m         \u001b[0mk\u001b[0m \u001b[0;34m=\u001b[0m \u001b[0m_UncheckedAssign\u001b[0m\u001b[0;34m.\u001b[0m\u001b[0mapply\u001b[0m\u001b[0;34m(\u001b[0m\u001b[0mk\u001b[0m\u001b[0;34m,\u001b[0m \u001b[0mf\u001b[0m\u001b[0;34m,\u001b[0m \u001b[0;34m(\u001b[0m\u001b[0;34m...\u001b[0m\u001b[0;34m,\u001b[0m \u001b[0mi\u001b[0m \u001b[0;34m+\u001b[0m \u001b[0;36m1\u001b[0m\u001b[0;34m)\u001b[0m\u001b[0;34m)\u001b[0m\u001b[0;34m\u001b[0m\u001b[0;34m\u001b[0m\u001b[0m\n\u001b[1;32m     78\u001b[0m \u001b[0;34m\u001b[0m\u001b[0m\n\u001b[0;32m---> 79\u001b[0;31m     \u001b[0;32mif\u001b[0m \u001b[0;32mnot\u001b[0m \u001b[0;34m(\u001b[0m\u001b[0mtableau\u001b[0m\u001b[0;34m.\u001b[0m\u001b[0mc_sol\u001b[0m\u001b[0;34m[\u001b[0m\u001b[0;34m-\u001b[0m\u001b[0;36m1\u001b[0m\u001b[0;34m]\u001b[0m \u001b[0;34m==\u001b[0m \u001b[0;36m0\u001b[0m \u001b[0;32mand\u001b[0m \u001b[0;34m(\u001b[0m\u001b[0mtableau\u001b[0m\u001b[0;34m.\u001b[0m\u001b[0mc_sol\u001b[0m\u001b[0;34m[\u001b[0m\u001b[0;34m:\u001b[0m\u001b[0;34m-\u001b[0m\u001b[0;36m1\u001b[0m\u001b[0;34m]\u001b[0m \u001b[0;34m==\u001b[0m \u001b[0mtableau\u001b[0m\u001b[0;34m.\u001b[0m\u001b[0mbeta\u001b[0m\u001b[0;34m[\u001b[0m\u001b[0;34m-\u001b[0m\u001b[0;36m1\u001b[0m\u001b[0;34m]\u001b[0m\u001b[0;34m)\u001b[0m\u001b[0;34m.\u001b[0m\u001b[0mall\u001b[0m\u001b[0;34m(\u001b[0m\u001b[0;34m)\u001b[0m\u001b[0;34m)\u001b[0m\u001b[0;34m:\u001b[0m\u001b[0;34m\u001b[0m\u001b[0;34m\u001b[0m\u001b[0m\n\u001b[0m\u001b[1;32m     80\u001b[0m         \u001b[0;31m# This property (true for Dormand-Prince) lets us save a few FLOPs.\u001b[0m\u001b[0;34m\u001b[0m\u001b[0;34m\u001b[0m\u001b[0;34m\u001b[0m\u001b[0m\n\u001b[1;32m     81\u001b[0m         \u001b[0myi\u001b[0m \u001b[0;34m=\u001b[0m \u001b[0my0\u001b[0m \u001b[0;34m+\u001b[0m \u001b[0mk\u001b[0m\u001b[0;34m.\u001b[0m\u001b[0mmatmul\u001b[0m\u001b[0;34m(\u001b[0m\u001b[0mdt\u001b[0m \u001b[0;34m*\u001b[0m \u001b[0mtableau\u001b[0m\u001b[0;34m.\u001b[0m\u001b[0mc_sol\u001b[0m\u001b[0;34m)\u001b[0m\u001b[0;34m.\u001b[0m\u001b[0mview_as\u001b[0m\u001b[0;34m(\u001b[0m\u001b[0mf0\u001b[0m\u001b[0;34m)\u001b[0m\u001b[0;34m\u001b[0m\u001b[0;34m\u001b[0m\u001b[0m\n",
      "\u001b[0;31mKeyboardInterrupt\u001b[0m: "
     ]
    }
   ],
   "source": [
    "data_size = 200\n",
    "batch_size = 10\n",
    "batch_time = 10\n",
    "\n",
    "torch.manual_seed(123)\n",
    "np.random.seed(123)\n",
    "\n",
    "func = ODE_func()\n",
    "optimizer = optim.SGD(func.parameters(), lr=1e-2)\n",
    "batch_x0, batch_t, batch_t_2, batch_x = get_batch()    \n",
    "loss_arr_BP = []\n",
    "\n",
    "best_params_BP = 0\n",
    "best_loss = 1e9\n",
    "\n",
    "start = time.time()\n",
    "\n",
    "itr = 0\n",
    "end = start\n",
    "\n",
    "while (end-start) <= 60:\n",
    "    \n",
    "    optimizer.zero_grad()\n",
    "    pred_x = odeint(func, batch_x0, batch_t, method='dopri5')\n",
    "    loss = torch.mean((pred_x - batch_x)**2)\n",
    "    loss_arr_BP.append(loss.clone().detach())\n",
    "    loss.backward()\n",
    "    optimizer.step()\n",
    "\n",
    "    if loss < best_loss:\n",
    "        best_loss = loss\n",
    "        best_params_BP = deepcopy(func.state_dict())\n",
    "                       \n",
    "    end = time.time()\n",
    "    \n",
    "    if itr % 100 == 0:\n",
    "        print(itr,end-start,best_loss)\n",
    "    \n",
    "    itr += 1"
   ]
  },
  {
   "cell_type": "code",
   "execution_count": 62,
   "id": "07d6caca",
   "metadata": {},
   "outputs": [
    {
     "data": {
      "text/plain": [
       "<All keys matched successfully>"
      ]
     },
     "execution_count": 62,
     "metadata": {},
     "output_type": "execute_result"
    }
   ],
   "source": [
    "func.load_state_dict(best_params_BP)"
   ]
  },
  {
   "cell_type": "code",
   "execution_count": 63,
   "id": "da4541d9",
   "metadata": {},
   "outputs": [
    {
     "data": {
      "image/png": "[encoded data removed]",
      "text/plain": [
       "<Figure size 368.618x165.878 with 1 Axes>"
      ]
     },
     "metadata": {
      "needs_background": "light"
     },
     "output_type": "display_data"
    }
   ],
   "source": [
    "fig = plt.figure()\n",
    "pred_x = odeint(func, true_x0, t, method='dopri5')\n",
    "\n",
    "plt.plot(t, pred_x.detach().numpy()[:,0,0], linewidth=2., alpha = 0.2)\n",
    "plt.plot(t, pred_x.detach().numpy()[:,0,1], linewidth=2., alpha = 0.2)\n",
    "\n",
    "pred_x = odeint(func, batch_x0, batch_t, method='dopri5')\n",
    "\n",
    "for i in range(batch_x.size()[1]):\n",
    "    plt.plot(batch_t_2[i]+batch_t, batch_x.detach().numpy()[:,i,0,0], '.', markersize=3, color='aqua', zorder=10)\n",
    "#plt.plot(batch_x0.detach().numpy()[:,0,0],batch_x0.detach().numpy()[:,0,1],batch_x0.detach().numpy()[:,0,2], '.', markersize=3, color='tab:red', zorder=10)\n",
    "\n",
    "plt.xlabel(r'$t$')\n",
    "plt.ylabel(r'$\\varphi,\\dot{\\varphi}$')\n",
    "\n",
    "plt.savefig(\"pendulum.png\",dpi=480)\n",
    "plt.show()"
   ]
  },
  {
   "cell_type": "code",
   "execution_count": 66,
   "id": "3746205f",
   "metadata": {},
   "outputs": [
    {
     "data": {
      "text/plain": [
       "tensor(5.6162, grad_fn=<MulBackward0>)"
      ]
     },
     "execution_count": 66,
     "metadata": {},
     "output_type": "execute_result"
    }
   ],
   "source": [
    "pred_x = odeint(func, batch_x0, batch_t, method='dopri5')\n",
    "1e4*torch.mean((pred_x - batch_x)**2)"
   ]
  },
  {
   "cell_type": "code",
   "execution_count": 67,
   "id": "ed9fa01b",
   "metadata": {},
   "outputs": [
    {
     "name": "stdout",
     "output_type": "stream",
     "text": [
      "tensor(8.3780, grad_fn=<MulBackward0>)\n"
     ]
    }
   ],
   "source": [
    "pred_x = odeint(func, true_x0, t, method='dopri5')\n",
    "error = 1e2*torch.mean((pred_x - true_x)**2)\n",
    "print(error)"
   ]
  },
  {
   "cell_type": "markdown",
   "id": "7ecd8ccd",
   "metadata": {},
   "source": [
    "# EKI optimization of neural ODEs"
   ]
  },
  {
   "cell_type": "code",
   "execution_count": 16,
   "id": "a5eff72a",
   "metadata": {},
   "outputs": [],
   "source": [
    "# hyperparameters EKI\n",
    "number_iterations = 40\n",
    "new_ensemble_members = 6"
   ]
  },
  {
   "cell_type": "code",
   "execution_count": 17,
   "id": "b1bd1f78",
   "metadata": {},
   "outputs": [],
   "source": [
    "best_params_EKI = []\n",
    "loss_arr_EKI = []\n",
    "\n",
    "torch.manual_seed(123)\n",
    "\n",
    "ensemble_members = 22\n",
    "gamma_0 = 1.4\n",
    "gamma = gamma_0\n",
    "Gamma = torch.eye(batch_x.flatten().size()[0]) * gamma\n",
    "y = batch_x.flatten().repeat(ensemble_members)\n",
    "y = y.reshape(ensemble_members,-1)\n",
    "\n",
    "best_loss = 1e9\n",
    "best_params = 0\n",
    "loss_arr = []\n",
    "\n",
    "func_enkf = ODE_func()\n",
    "nn_params = get_weights(func_enkf)"
   ]
  },
  {
   "cell_type": "code",
   "execution_count": 30,
   "id": "988b1f20",
   "metadata": {},
   "outputs": [
    {
     "data": {
      "text/plain": [
       "tensor([-0.2883,  0.0234, -0.3512,  0.2667, -0.6025,  0.5183, -0.5140, -0.5622,\n",
       "        -0.4468,  0.3202, -0.2613,  0.2646, -0.6001, -0.4290, -0.2596, -0.1390,\n",
       "        -0.5394,  0.4630, -0.1668,  0.2270,  0.5000,  0.1317,  0.1934,  0.6825,\n",
       "        -0.3189,  0.2240, -0.3146,  0.5053,  0.5647, -0.6519,  0.2699,  0.1510,\n",
       "         0.1378,  0.1302,  0.2629, -0.0418, -0.2674, -0.0907, -0.2227,  0.0209,\n",
       "        -0.0590, -0.1696, -0.0288,  0.2996, -0.0249,  0.0100, -0.0493,  0.0497,\n",
       "         0.2818,  0.1934,  0.1122,  0.0687])"
      ]
     },
     "execution_count": 30,
     "metadata": {},
     "output_type": "execute_result"
    }
   ],
   "source": [
    "tensorlist_to_tensor(get_weights(func_enkf))"
   ]
  },
  {
   "cell_type": "code",
   "execution_count": 31,
   "id": "01cd0324",
   "metadata": {},
   "outputs": [],
   "source": [
    "u, G_u = generate_initial_ensemble(ODE_func, batch_x0, batch_t, ensemble_members, solve_oc_problem=False)"
   ]
  },
  {
   "cell_type": "code",
   "execution_count": 32,
   "id": "83aba681",
   "metadata": {},
   "outputs": [
    {
     "name": "stdout",
     "output_type": "stream",
     "text": [
      "57 60.49140810966492 6.102807788010978e-07\n"
     ]
    }
   ],
   "source": [
    "loss = torch.mean((G_u-y)**2,axis=1)\n",
    "min_ind = torch.argmin(loss)\n",
    "loss = float(loss[min_ind])\n",
    "#loss = torch.mean(torch.mean((G_u-y)**2,axis=1))\n",
    "#loss_arr_EKI.append(loss)\n",
    "\n",
    "n = 0\n",
    "ntilde = 0\n",
    "\n",
    "start = time.time()\n",
    "end = start\n",
    "\n",
    "while (end-start) <= 60:\n",
    "    u = update_step(u, G_u, y, Gamma, ensemble_members)\n",
    "\n",
    "    G_u = compute_F_u(u, ODE_func, batch_x0, batch_t, ensemble_members, solve_oc_problem=False)\n",
    "\n",
    "    loss = torch.mean((G_u-y)**2,axis=1)\n",
    "    min_ind = torch.argmin(loss)\n",
    "    loss = float(loss[min_ind])\n",
    "    loss_arr_EKI.append(loss)\n",
    "    #loss = torch.mean(torch.mean((G_u-y)**2,axis=1))\n",
    "    #loss_arr_EKI.append(loss)\n",
    "\n",
    "    if loss < best_loss:\n",
    "        best_loss = loss\n",
    "        best_params_EKI = u[min_ind]\n",
    "    \n",
    "    if n % 2 == 0:\n",
    "        #print(n,loss,gamma)\n",
    "        gamma = gamma_0*np.exp(-0.4*ntilde)\n",
    "        if n >= 28:\n",
    "            gamma *= 0.3\n",
    "        Gamma = torch.eye(batch_x.flatten().size()[0]) * gamma\n",
    "\n",
    "    n += 1\n",
    "    ntilde += 1\n",
    "    \n",
    "    end = time.time()\n",
    "print(n, end - start, best_loss)"
   ]
  },
  {
   "cell_type": "code",
   "execution_count": 21,
   "id": "57b761ec",
   "metadata": {},
   "outputs": [
    {
     "data": {
      "text/plain": [
       "tensor([-0.0691,  0.8967,  0.5410, -1.0750, -0.7992, -0.6683, -0.1496,  0.0246,\n",
       "        -1.2711,  0.1162, -0.1206,  0.6967, -0.3143, -0.6461,  0.2519,  0.0230,\n",
       "        -1.2770, -0.9245, -0.5987,  0.8861,  0.0920,  0.0696, -0.1921, -1.1548,\n",
       "         0.1714, -0.4217,  0.2030, -0.0679, -0.1692,  0.5997,  0.4560, -0.2162,\n",
       "        -0.4540,  0.1484,  0.1128, -0.0294, -0.2142, -0.1260,  0.0328,  0.1469,\n",
       "         0.6396,  0.0718,  0.2806,  0.0769,  0.5610, -0.0915,  0.7072, -0.3747,\n",
       "        -0.1546,  0.0385, -0.0216, -0.2245])"
      ]
     },
     "execution_count": 21,
     "metadata": {},
     "output_type": "execute_result"
    }
   ],
   "source": [
    "best_params_EKI"
   ]
  },
  {
   "cell_type": "code",
   "execution_count": 22,
   "id": "d944ba4f",
   "metadata": {},
   "outputs": [],
   "source": [
    "updated_params = npvec_to_tensorlist(best_params_EKI,nn_params)\n",
    "set_weights(func_enkf,updated_params)"
   ]
  },
  {
   "cell_type": "code",
   "execution_count": 25,
   "id": "1e4f958c",
   "metadata": {},
   "outputs": [
    {
     "name": "stdout",
     "output_type": "stream",
     "text": [
      "tensor(1.3773, grad_fn=<MulBackward0>)\n"
     ]
    }
   ],
   "source": [
    "pred_x = odeint(func_enkf, true_x0, t, method='dopri5')\n",
    "error = 1e5*torch.mean((pred_x - true_x)**2)\n",
    "print(error)"
   ]
  },
  {
   "cell_type": "code",
   "execution_count": 26,
   "id": "a0fa2079",
   "metadata": {},
   "outputs": [
    {
     "data": {
      "text/plain": [
       "tensor(4.0024, grad_fn=<MulBackward0>)"
      ]
     },
     "execution_count": 26,
     "metadata": {},
     "output_type": "execute_result"
    }
   ],
   "source": [
    "pred_x = odeint(func_enkf, batch_x0, batch_t, method='dopri5')\n",
    "1e7*torch.mean((pred_x - batch_x)**2)"
   ]
  },
  {
   "cell_type": "code",
   "execution_count": 31,
   "id": "c4595279",
   "metadata": {},
   "outputs": [
    {
     "name": "stderr",
     "output_type": "stream",
     "text": [
      "/home/lucasb/anaconda3/envs/inventory/lib/python3.6/site-packages/ipykernel_launcher.py:60: UserWarning: This figure was using constrained_layout==True, but that is incompatible with subplots_adjust and or tight_layout: setting constrained_layout==False. \n"
     ]
    },
    {
     "data": {
      "image/png": "[encoded data removed]",
      "text/plain": [
       "<Figure size 211.304x380.348 with 2 Axes>"
      ]
     },
     "metadata": {},
     "output_type": "display_data"
    }
   ],
   "source": [
    "fig = plt.figure(constrained_layout=True)\n",
    "fig.patch.set_facecolor('white')\n",
    "mosaic = \"\"\"\n",
    "                A\n",
    "                B\n",
    "                \"\"\"\n",
    "ax_dict = fig.subplot_mosaic(mosaic)\n",
    "\n",
    "text = ax_dict[\"A\"].text(0.03*20,0.9*2-1,r\"(a)\")\n",
    "text.set_bbox(dict(facecolor='white', alpha=0.8, edgecolor='white', pad=0))\n",
    "text = ax_dict[\"B\"].text(1.3,0.024,r\"(b)\")\n",
    "text.set_bbox(dict(facecolor='white', alpha=0.8, edgecolor='white', pad=0))\n",
    "\n",
    "loss_arr_BP = np.loadtxt(\"data/loss_arr_BP_pendulum.dat\")\n",
    "loss_arr_EKI_no_schedule = np.loadtxt(\"data/loss_arr_EKI_no_schedule_pendulum.dat\")\n",
    "loss_arr_EKI = np.loadtxt(\"data/loss_arr_EKI_pendulum.dat\")\n",
    "func.load_state_dict(torch.load(\"data/BP_pendulum_model.pt\"))\n",
    "func_enkf.load_state_dict(torch.load(\"data/EKI_pendulum_model.pt\"))\n",
    "\n",
    "pred_x = odeint(func, true_x0, t, method='dopri5')\n",
    "ax_dict[\"A\"].plot(t, pred_x.detach().numpy()[:,0,0],linewidth=3.,alpha=0.5)\n",
    "\n",
    "pred_x = odeint(func_enkf, true_x0, t, method='dopri5')\n",
    "ax_dict[\"A\"].plot(t, pred_x.detach().numpy()[:,0,0],linewidth=3.,alpha=0.5,ls='--')\n",
    "\n",
    "ax_dict[\"A\"].plot(t, sol.y[0],color=\"k\",alpha=0.8,linewidth=0.8,linestyle=(0, (5, 1)))\n",
    "\n",
    "for i in range(batch_x.size()[1]):\n",
    "    ax_dict[\"A\"].plot(batch_t_2[i]+batch_t, batch_x.detach().numpy()[:,i,0,0], '.',color='tab:red',alpha=0.9,markersize=3)\n",
    "\n",
    "ax_dict[\"B\"].plot(loss_arr_BP,linewidth=1.,alpha=0.5,label=r\"BPTT\")\n",
    "ax_dict[\"B\"].plot(loss_arr_EKI,linewidth=1.,alpha=0.5,label=r\"EKI\")\n",
    "ax_dict[\"B\"].plot(loss_arr_EKI_no_schedule,linewidth=1.,alpha=0.5,color=\"tab:orange\")\n",
    "ax_dict[\"B\"].annotate(r\"non-adaptive $\\gamma_m$\", xy=(40, 1.2e-3), xytext=(90, 1e-4),\\\n",
    "                      arrowprops={\"arrowstyle\":\"->\", \"color\":\"gray\", \"shrinkA\":0, \"shrinkB\":5}, fontsize=8)\n",
    "\n",
    "ax_dict[\"A\"].xaxis.set_minor_locator(ticker.MultipleLocator(1))\n",
    "ax_dict[\"A\"].yaxis.set_minor_locator(ticker.MultipleLocator(0.125))\n",
    "ax_dict[\"A\"].set_xlabel(r\"$t$\")\n",
    "ax_dict[\"A\"].set_ylabel(r\"$x(t)$\")\n",
    "ax_dict[\"A\"].set_xlim([0,20])\n",
    "ax_dict[\"A\"].set_ylim([-1,1])\n",
    "\n",
    "ax_dict[\"B\"].legend(loc=1,frameon=False)\n",
    "ax_dict[\"B\"].set_xlim([1,1e4])\n",
    "ax_dict[\"B\"].set_ylim([1e-7,1e-1])\n",
    "ax_dict[\"B\"].set_xscale(\"log\")\n",
    "ax_dict[\"B\"].set_yscale(\"log\")\n",
    "ax_dict[\"B\"].set_xlabel(r\"epoch $m$\")\n",
    "ax_dict[\"B\"].set_ylabel(r\"${\\rm MSE}(\\theta^{(m)})$\")\n",
    "\n",
    "locmaj = ticker.LogLocator(base=10.0, subs=(1.0, ), numticks=100)\n",
    "ax_dict[\"B\"].xaxis.set_major_locator(locmaj)\n",
    "\n",
    "locmin = ticker.LogLocator(base=10.0, subs=np.arange(2, 10) * .1,\n",
    "                                      numticks=100)\n",
    "ax_dict[\"B\"].xaxis.set_minor_locator(locmin)\n",
    "ax_dict[\"B\"].xaxis.set_minor_formatter(ticker.NullFormatter())\n",
    "\n",
    "plt.tight_layout()\n",
    "plt.savefig(\"neural_ODE_pendulum_icml.png\",dpi=480,bbox_inches='tight',pad_inches = 0)\n",
    "plt.show()"
   ]
  },
  {
   "cell_type": "code",
   "execution_count": 30,
   "id": "f951b925",
   "metadata": {},
   "outputs": [
    {
     "data": {
      "text/plain": [
       "1.9656488549618318"
      ]
     },
     "execution_count": 30,
     "metadata": {},
     "output_type": "execute_result"
    }
   ],
   "source": [
    "1.03*1e-6/(5.24*1e-7)"
   ]
  },
  {
   "cell_type": "code",
   "execution_count": 49,
   "id": "12d9d4d7",
   "metadata": {},
   "outputs": [],
   "source": [
    "#torch.save(func.state_dict(), \"data/BP_pendulum_model.pt\")"
   ]
  },
  {
   "cell_type": "code",
   "execution_count": 27,
   "id": "5225f903",
   "metadata": {},
   "outputs": [],
   "source": [
    "#torch.save(func_enkf.state_dict(), \"data/EKI_pendulum_model.pt\")"
   ]
  },
  {
   "cell_type": "code",
   "execution_count": 14,
   "id": "a54fc0bd",
   "metadata": {},
   "outputs": [
    {
     "data": {
      "text/plain": [
       "<All keys matched successfully>"
      ]
     },
     "execution_count": 14,
     "metadata": {},
     "output_type": "execute_result"
    }
   ],
   "source": [
    "func.load_state_dict(torch.load(\"data/BP_pendulum_model.pt\"))"
   ]
  },
  {
   "cell_type": "code",
   "execution_count": 18,
   "id": "08c01d1a",
   "metadata": {},
   "outputs": [
    {
     "data": {
      "text/plain": [
       "<All keys matched successfully>"
      ]
     },
     "execution_count": 18,
     "metadata": {},
     "output_type": "execute_result"
    }
   ],
   "source": [
    "func_enkf.load_state_dict(torch.load(\"data/EKI_pendulum_model.pt\"))"
   ]
  },
  {
   "cell_type": "code",
   "execution_count": 19,
   "id": "61e26735",
   "metadata": {},
   "outputs": [],
   "source": [
    "#np.savetxt(\"data/loss_arr_BP_pendulum.dat\",loss_arr_BP)"
   ]
  },
  {
   "cell_type": "code",
   "execution_count": 20,
   "id": "474bfe0a",
   "metadata": {},
   "outputs": [],
   "source": [
    "loss_arr_BP = np.loadtxt(\"data/loss_arr_BP_pendulum.dat\")"
   ]
  },
  {
   "cell_type": "code",
   "execution_count": 21,
   "id": "e945f9f6",
   "metadata": {},
   "outputs": [],
   "source": [
    "loss_arr_EKI_no_schedule = loss_arr_EKI"
   ]
  },
  {
   "cell_type": "code",
   "execution_count": 22,
   "id": "ed9b60e0",
   "metadata": {},
   "outputs": [],
   "source": [
    "#np.savetxt(\"data/loss_arr_EKI_no_schedule_pendulum.dat\",loss_arr_EKI_no_schedule)"
   ]
  },
  {
   "cell_type": "code",
   "execution_count": 23,
   "id": "de13ed44",
   "metadata": {},
   "outputs": [],
   "source": [
    "loss_arr_EKI_no_schedule = np.loadtxt(\"data/loss_arr_EKI_no_schedule_pendulum.dat\")"
   ]
  },
  {
   "cell_type": "code",
   "execution_count": 24,
   "id": "dd91072c",
   "metadata": {},
   "outputs": [],
   "source": [
    "#np.savetxt(\"data/loss_arr_EKI_pendulum.dat\",loss_arr_EKI)"
   ]
  },
  {
   "cell_type": "code",
   "execution_count": 25,
   "id": "7e21aa3a",
   "metadata": {},
   "outputs": [],
   "source": [
    "loss_arr_EKI = np.loadtxt(\"data/loss_arr_EKI_pendulum.dat\")"
   ]
  },
  {
   "cell_type": "code",
   "execution_count": null,
   "id": "3256b8ff",
   "metadata": {},
   "outputs": [],
   "source": []
  }
 ],
 "metadata": {
  "kernelspec": {
   "display_name": "Python 3",
   "language": "python",
   "name": "python3"
  },
  "language_info": {
   "codemirror_mode": {
    "name": "ipython",
    "version": 3
   },
   "file_extension": ".py",
   "mimetype": "text/x-python",
   "name": "python",
   "nbconvert_exporter": "python",
   "pygments_lexer": "ipython3",
   "version": "3.6.13"
  }
 },
 "nbformat": 4,
 "nbformat_minor": 5
}
